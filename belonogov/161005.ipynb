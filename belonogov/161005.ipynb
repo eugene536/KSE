{
 "cells": [
  {
   "cell_type": "code",
   "execution_count": 32,
   "metadata": {
    "collapsed": false
   },
   "outputs": [
    {
     "data": {
      "text/plain": [
       "array([2, 3, 1])"
      ]
     },
     "execution_count": 32,
     "metadata": {},
     "output_type": "execute_result"
    }
   ],
   "source": [
    "x = [1, 3]\n",
    "x.append(5)\n",
    "x\n",
    "x = np.array([2,3,1,0][:3])\n",
    "x\n"
   ]
  },
  {
   "cell_type": "code",
   "execution_count": 41,
   "metadata": {
    "collapsed": false
   },
   "outputs": [
    {
     "name": "stdout",
     "output_type": "stream",
     "text": [
      "[3.813320784113909, 3.6221004102620507, 4.781329582121436, 0.9998999999999062]\n",
      "[3.814261395163409, 3.622331792583778, 4.783501068867424, 0.9998999999999062]\n"
     ]
    }
   ],
   "source": [
    "\n",
    "sigma = 10\n",
    "b = 8 / 3\n",
    "T = 1\n",
    "\n",
    "\n",
    "def calcDer(point, r):\n",
    "    x, y, z = point\n",
    "    return np.array([sigma * (y - x), -x * z + r * x - y, x * y - b*z])\n",
    "\n",
    "\n",
    "def rungeKuttaStep(p, h, r):\n",
    "    k1 = calcDer(p, r)\n",
    "    k2 = calcDer(p + k1 * h / 2, r)\n",
    "    k3 = calcDer(p + k2 * h / 2, r)\n",
    "    k4 = calcDer(p + k3 * h, r)\n",
    "\n",
    "    p = p + h / 6 * (k1 + 2 * k2 + 2 * k3 + k4)\n",
    "    return p\n",
    "\n",
    "\n",
    "def rungeKutta(x0, y0, z0, r):\n",
    "    p = np.array([x0, y0, z0])\n",
    "    ITER = 10000\n",
    "    h = T / ITER\n",
    "    tmr = 0;\n",
    "    history=[]\n",
    "    for i in range(0, ITER):\n",
    "        history.append(p.tolist() + [tmr])\n",
    "        p = rungeKuttaStep(p, h, r)\n",
    "        tmr = tmr + h\n",
    "        \n",
    "    return history\n",
    "\n",
    "\n",
    "def adams(x0, y0, z0, r):\n",
    "    p = np.array([x0, y0, z0])\n",
    "    ITER = 10000\n",
    "    h = T / ITER\n",
    "    tmr = 0;\n",
    "    history=[]\n",
    "    for i in range(0, ITER):\n",
    "        history.append(p.tolist() + [tmr])\n",
    "        if i < 3:\n",
    "            p = rungeKuttaStep(p, h, r)\n",
    "        else:\n",
    "            p0 = np.array(history[-4][:3])\n",
    "            p1 = np.array(history[-3][:3])\n",
    "            p2 = np.array(history[-2][:3])\n",
    "            p3 = np.array(history[-1][:3])\n",
    "            p4 = p\n",
    "            f0 = calcDer(p0, r)\n",
    "            f1 = calcDer(p1, r)\n",
    "            f2 = calcDer(p2, r)\n",
    "            f3 = calcDer(p3, r)\n",
    "            f4 = calcDer(p4, r)\n",
    "            \n",
    "            p = p4 + h * (1901 / 720 * f4 - 1387 / 360 * f3 + 109 /30 * f2 - 637/360 * f1 + 251/720 * f0)\n",
    "            \n",
    "        tmr = tmr + h\n",
    "        \n",
    "    return history\n",
    "    \n",
    "    \n",
    "    \n",
    "\n",
    "print(rungeKutta(1, 2, 3, 5)[-1])\n",
    "print(adams(1, 2, 3, 5)[-1])\n",
    "\n",
    "    "
   ]
  },
  {
   "cell_type": "code",
   "execution_count": 4,
   "metadata": {
    "collapsed": false
   },
   "outputs": [],
   "source": [
    "import tkinter as tk\n",
    "import matplotlib.pyplot as plt\n",
    "import numpy as np\n",
    "\n",
    "\n",
    "master = tk.Tk()\n",
    "\n",
    "w = tk.Scale(master, from_=0, to=100)\n",
    "w.pack()\n",
    "w1 = tk.Scale(master, from_=0, to=200)\n",
    "w1.pack()\n",
    "\n",
    "\n",
    "    \n",
    "    \n",
    "    \n",
    "\n",
    "def callback():\n",
    "    plt.plot([1,2,3,4])\n",
    "    plt.ylabel('some numbers')\n",
    "    plt.show()\n",
    "    print(\"click!\")\n",
    "\n",
    "#w2 = tk.Button(master, text=\"OK\", command=callback)\n",
    "w2 = tk.Button(master, text=\"OK\")\n",
    "w2.config(command=callback)\n",
    "\n",
    "w2.pack()\n",
    "\n",
    "\n",
    "# tk.mainloop()\n",
    "\n",
    "\n",
    "\n"
   ]
  },
  {
   "cell_type": "code",
   "execution_count": 4,
   "metadata": {
    "collapsed": false
   },
   "outputs": [
    {
     "name": "stdout",
     "output_type": "stream",
     "text": [
      "Hello\n"
     ]
    },
    {
     "data": {
      "image/png": "[encoded data removed]",
      "text/plain": [
       "<matplotlib.figure.Figure at 0x7f196b7ab198>"
      ]
     },
     "metadata": {},
     "output_type": "display_data"
    }
   ],
   "source": [
    "import matplotlib.pyplot as plt\n",
    "\n",
    "print(\"Hello\")\n",
    "\n",
    "plt.plot([1,2,3,4])\n",
    "plt.ylabel('some numbers')\n",
    "plt.show()\n",
    "\n",
    "\n",
    "\n",
    "\n"
   ]
  },
  {
   "cell_type": "code",
   "execution_count": null,
   "metadata": {
    "collapsed": true
   },
   "outputs": [],
   "source": []
  }
 ],
 "metadata": {
  "kernelspec": {
   "display_name": "Python 3",
   "language": "python",
   "name": "python3"
  },
  "language_info": {
   "codemirror_mode": {
    "name": "ipython",
    "version": 3
   },
   "file_extension": ".py",
   "mimetype": "text/x-python",
   "name": "python",
   "nbconvert_exporter": "python",
   "pygments_lexer": "ipython3",
   "version": "3.5.2"
  }
 },
 "nbformat": 4,
 "nbformat_minor": 1
}
